{
 "cells": [
  {
   "cell_type": "markdown",
   "id": "92b59f84",
   "metadata": {},
   "source": [
    "# Data Science Tools and Ecosystem"
   ]
  },
  {
   "cell_type": "markdown",
   "id": "022ddd53",
   "metadata": {},
   "source": [
    "In this notebook, Data Science Tools and Ecosystem are summarized."
   ]
  },
  {
   "cell_type": "markdown",
   "id": "13227b3d",
   "metadata": {},
   "source": [
    "List popular languages for Data Science\n",
    "       There are hundreds of programming languages out there, built for diverse purposes. Some of them are better suited for data science, providing high productivity and performance to process large amounts of data. However, this group still comprises a good number of programming languages.\n",
    "\n",
    "In this article, we look at some of the top data science programming languages for 2023, and present the strengths and capabilities of each of them.\n",
    "\n",
    "*Python\n",
    "*R\n",
    "*SQL\n",
    "*Java\n",
    "*Julia\n",
    "*Scala\n",
    "*C/C++"
   ]
  },
  {
   "cell_type": "markdown",
   "id": "59a5d33d",
   "metadata": {},
   "source": [
    "Some of the popular languages that Data Scientists use are:\n",
    "1. R\n",
    "2. Python\n",
    "3. Julia"
   ]
  },
  {
   "cell_type": "markdown",
   "id": "d700f11a",
   "metadata": {},
   "source": [
    "Some of the commonly used libraries used by Data Scientists include:\n",
    "    1.NumPy.\n",
    "    2.Keras.\n",
    "    3.Pandas."
   ]
  },
  {
   "cell_type": "markdown",
   "id": "be8a6b4b",
   "metadata": {},
   "source": [
    "Data Science Tools\n",
    "1.Git.\n",
    "2.Apache Subversion.\n",
    "3.Eclipse IDE."
   ]
  },
  {
   "cell_type": "markdown",
   "id": "0713c2cb",
   "metadata": {},
   "source": [
    "### Below are a few examples of evaluating arithmetic expressions in Python"
   ]
  },
  {
   "cell_type": "code",
   "execution_count": 2,
   "id": "1f7a902c",
   "metadata": {},
   "outputs": [
    {
     "data": {
      "text/plain": [
       "17"
      ]
     },
     "execution_count": 2,
     "metadata": {},
     "output_type": "execute_result"
    }
   ],
   "source": [
    "(3*4)+5\n",
    "#This a simple arithmetic expression to mutiply then add integers"
   ]
  },
  {
   "cell_type": "code",
   "execution_count": 3,
   "id": "d692511c",
   "metadata": {},
   "outputs": [
    {
     "data": {
      "text/plain": [
       "3"
      ]
     },
     "execution_count": 3,
     "metadata": {},
     "output_type": "execute_result"
    }
   ],
   "source": [
    "round(200/60)\n",
    "#This will convert 200 minutes to hours by diving by 60"
   ]
  },
  {
   "cell_type": "markdown",
   "id": "1d0724a4",
   "metadata": {},
   "source": [
    "## Author\n",
    "Chen Yu Cheng"
   ]
  },
  {
   "cell_type": "code",
   "execution_count": null,
   "id": "dc162fef",
   "metadata": {},
   "outputs": [],
   "source": []
  }
 ],
 "metadata": {
  "kernelspec": {
   "display_name": "Python 3 (ipykernel)",
   "language": "python",
   "name": "python3"
  },
  "language_info": {
   "codemirror_mode": {
    "name": "ipython",
    "version": 3
   },
   "file_extension": ".py",
   "mimetype": "text/x-python",
   "name": "python",
   "nbconvert_exporter": "python",
   "pygments_lexer": "ipython3",
   "version": "3.10.9"
  }
 },
 "nbformat": 4,
 "nbformat_minor": 5
}
